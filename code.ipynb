{
  "nbformat": 4,
  "nbformat_minor": 0,
  "metadata": {
    "colab": {
      "name": "code",
      "provenance": []
    },
    "kernelspec": {
      "name": "python3",
      "display_name": "Python 3"
    }
  },
  "cells": [
    {
      "cell_type": "code",
      "metadata": {
        "id": "TNX13qQziUGi"
      },
      "source": [
        "def get_rules():\r\n",
        "    rules = {\"r1\":{\r\n",
        "                        \"zero\": 0,\r\n",
        "                        \"one\" : 1,\r\n",
        "                        \"two\": 2,\r\n",
        "                        \"three\": 3,\r\n",
        "                        \"four\": 4,\r\n",
        "                        \"five\": 5,\r\n",
        "                        \"six\": 6,\r\n",
        "                        \"seven\": 7,\r\n",
        "                        \"eight\": 8,\r\n",
        "                        \"nine\": 9,\r\n",
        "                        \"ten\": 10,\r\n",
        "                        \"twenty\": 20,\r\n",
        "                        \"thirty\": 30,\r\n",
        "                        \"forty\": 40,\r\n",
        "                        \"fifty\": 50,\r\n",
        "                        \"sixty\": 60,\r\n",
        "                        \"seventy\": 70,\r\n",
        "                        \"eighty\": 80,\r\n",
        "                        \"ninety\": 90,\r\n",
        "                        \"hundred\": 100\r\n",
        "                        },\r\n",
        "            \"r2\": {\r\n",
        "                         \"single\":1,\r\n",
        "                         \"double\":2,\r\n",
        "                         \"triple\":3,\r\n",
        "                         \"quadruple\":4,\r\n",
        "                         \"quintuple\":5,\r\n",
        "                         \"sextuple\":6,\r\n",
        "                         \"septuple\":7,\r\n",
        "                         \"octuple\":8,\r\n",
        "                         \"nonuple\":9,\r\n",
        "                         \"decuple\":10\r\n",
        "                      },\r\n",
        "            \"r3\": {\r\n",
        "                          \"C M\": \"CM\",\r\n",
        "                          \"P M\": \"PM\",\r\n",
        "                          \"D M\": \"DM\",\r\n",
        "                          \"A M\": \"AM\"\r\n",
        "                       }\r\n",
        "            }\r\n",
        "    return rules"
      ],
      "execution_count": 2,
      "outputs": []
    },
    {
      "cell_type": "code",
      "metadata": {
        "id": "VY_pw_Aaj97W"
      },
      "source": [
        "def check_front_last(word):\r\n",
        "    f=\"\"\r\n",
        "    l=\"\"\r\n",
        "    if(len(word)>1):\r\n",
        "        if word[-1]==',' or word[-1]=='.':\r\n",
        "            l=word[-1]\r\n",
        "            word=word[:-1]\r\n",
        "        if word[0]==',' or word[0]=='.':\r\n",
        "            f=word[0]\r\n",
        "            word=word[1:]\r\n",
        "    return f,word,l"
      ],
      "execution_count": 3,
      "outputs": []
    },
    {
      "cell_type": "code",
      "metadata": {
        "id": "zcxebyAdkFCh"
      },
      "source": [
        "class SpokenToWritten:\r\n",
        "\r\n",
        "    def __init__(self):\r\n",
        "\r\n",
        "        self.rules=get_rules()\r\n",
        "        self.para=\"\"\r\n",
        "        self.ouptut_para=\"\"\r\n",
        "\r\n",
        "    #getting user input\r\n",
        "    def get_user_input(self):\r\n",
        "\r\n",
        "        self.para=input(\"\\n[IN]:Enter Your paragraph of spoken english:\\n\\t\")\r\n",
        "\r\n",
        "        if not self.para:\r\n",
        "            raise ValueError(\"[Error]: You entered nothing.\")\r\n",
        "\r\n",
        "    #getting  user output\r\n",
        "    def show_output(self):\r\n",
        "        print(\"\\n[OUT]:The input Spoken English Paragraph: \\n\\n \\\" \"+ self.para+\"\\\"\")\r\n",
        "        print(\"\\nConverted Written English Paragraph: \\n\\n \\\"\" +self.ouptut_para+\"\\\"\")"
      ],
      "execution_count": 4,
      "outputs": []
    },
    {
      "cell_type": "code",
      "metadata": {
        "id": "neyvSXN4kWwE"
      },
      "source": [
        " #conversion function of spoken to written english \r\n"
      ],
      "execution_count": 6,
      "outputs": []
    },
    {
      "cell_type": "code",
      "metadata": {
        "id": "P-1vZJSQlCfY"
      },
      "source": [
        "def Convert(self):\r\n",
        "        #splitting paragraph into individual words\r\n",
        "        words_of_para=self.para.split()\r\n",
        "\r\n",
        "        #accessing defines rules\r\n",
        "        numbers=self.rules['r1']\r\n",
        "        tuples=self.rules['r2']\r\n",
        "        general=self.rules['r3']\r\n",
        "        i=0\r\n",
        "        no_of_words=len(words_of_para)\r\n",
        "        #loop will run for the number of words in paragraph \r\n",
        "        while i<no_of_words: \r\n",
        "            \r\n",
        "            f,word,l=check_front_last(words_of_para[i])\r\n",
        "            #Word of paragraph may of form ',dollars.' \r\n",
        "            if i+1!= no_of_words:\r\n",
        "            #when word is of the form e.g.: two \r\n",
        "                front_n,next_word,last_n=check_front_last(words_of_para[i+1])\r\n",
        "                if word.lower() in numbers.keys() and (next_word.lower()=='dollars' or next_word.lower()=='dollar'):\r\n",
        "                    self.ouptut_para=self.ouptut_para+\" \"+f+\"$\"+str(numbers[word.lower()])+l\r\n",
        "                    i=i+2\r\n",
        "\r\n",
        "                elif word.lower() in tuples.keys() and len(next_word)==1:\r\n",
        "                    #when word is of form Triple A\r\n",
        "                    self.ouptut_para=self.ouptut_para+\" \"+front_n+(next_word*tuples[word.lower()])+last_n\r\n",
        "                    i=i+2\r\n",
        "                elif (word+\" \"+next_word) in general.keys():\r\n",
        "                    #if word is of form P M or C M\r\n",
        "                    self.ouptut_para=self.ouptut_para+\" \"+f+word+next_word+last_n\r\n",
        "                    i=i+2\r\n",
        "                else:\r\n",
        "                    self.ouptut_para=self.ouptut_para+\" \"+words_of_para[i]\r\n",
        "                    i=i+1\r\n",
        "            else:\r\n",
        "                self.ouptut_para=self.ouptut_para+\" \"+words_of_para[i]\r\n",
        "                i=i+1\r\n",
        "\r\n"
      ],
      "execution_count": 7,
      "outputs": []
    },
    {
      "cell_type": "code",
      "metadata": {
        "id": "qSj8CnH4lJnX"
      },
      "source": [
        "def convert_sp_to_wr():\r\n",
        "    #creating class object\r\n",
        "    obj_spoken=SpokenToWritten()\r\n",
        "    obj_spoken.get_user_input()\r\n",
        "    obj_spoken.Convert()\r\n",
        "\r\n",
        "\r\n",
        "    obj_spoken.show_output()"
      ],
      "execution_count": 8,
      "outputs": []
    },
    {
      "cell_type": "code",
      "metadata": {
        "id": "o8VAbZsxlNQZ"
      },
      "source": [
        ""
      ],
      "execution_count": null,
      "outputs": []
    }
  ]
}